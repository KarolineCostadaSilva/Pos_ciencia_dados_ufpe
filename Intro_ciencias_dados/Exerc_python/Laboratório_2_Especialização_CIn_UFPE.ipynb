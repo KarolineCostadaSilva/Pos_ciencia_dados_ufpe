{
  "nbformat": 4,
  "nbformat_minor": 0,
  "metadata": {
    "colab": {
      "provenance": [],
      "include_colab_link": true
    },
    "kernelspec": {
      "name": "python3",
      "display_name": "Python 3"
    },
    "language_info": {
      "name": "python"
    }
  },
  "cells": [
    {
      "cell_type": "markdown",
      "metadata": {
        "id": "view-in-github",
        "colab_type": "text"
      },
      "source": [
        "<a href=\"https://colab.research.google.com/github/KarolineCostadaSilva/Pos_ciencia_dados_ufpe/blob/main/Intro_ciencias_dados/Exerc_python/Laborat%C3%B3rio_2_Especializa%C3%A7%C3%A3o_CIn_UFPE.ipynb\" target=\"_parent\"><img src=\"https://colab.research.google.com/assets/colab-badge.svg\" alt=\"Open In Colab\"/></a>"
      ]
    },
    {
      "cell_type": "markdown",
      "metadata": {
        "id": "7j3AXNih5q-k"
      },
      "source": [
        "#### Assuntos do Laboratório 2:\n",
        "- Tipos de variáveis\n",
        "- Comandos de entrada e saída\n",
        "- Comando Condicional"
      ]
    },
    {
      "cell_type": "markdown",
      "metadata": {
        "id": "8LAONhSBx9ZL"
      },
      "source": [
        "###Questão 1:\n",
        "\n",
        "Peça ao usuário um número inteiro como entrada e imprima se o número é PAR ou ÍMPAR."
      ]
    },
    {
      "cell_type": "code",
      "metadata": {
        "id": "wXqYmNrmyBQ-",
        "colab": {
          "base_uri": "https://localhost:8080/"
        },
        "outputId": "2bc5ea1b-a0d7-457e-fcfd-eea444d00a5e"
      },
      "source": [
        "# codigo vai aqui\n",
        "\n",
        "#qual o erro deste codigo?\n",
        "numero = input(\"digite um numero: \")\n",
        "if (int(numero) %2 == 0):\n",
        "  print(\"eh par\")\n",
        "else:\n",
        "  print(\"nao eh par\")"
      ],
      "execution_count": 2,
      "outputs": [
        {
          "output_type": "stream",
          "name": "stdout",
          "text": [
            "digite um numero: 123\n",
            "nao eh par\n"
          ]
        }
      ]
    },
    {
      "cell_type": "markdown",
      "metadata": {
        "id": "SysOhxnZx7mb"
      },
      "source": [
        "### Questão 2:\n",
        "\n",
        "\n",
        "Escreva um programa que peça a data atual (dia, mês e ano como números inteiros) e peça a data de nascimento do usuário (dia, mês e ano como números inteiros). O programa deve imprimir a idade do usuário.\n",
        "\n"
      ]
    },
    {
      "cell_type": "code",
      "metadata": {
        "id": "jfxbMR21x0Ba",
        "colab": {
          "base_uri": "https://localhost:8080/"
        },
        "outputId": "464b1b7f-b53d-45fa-d85d-e20322e5d467"
      },
      "source": [
        "#codigo vai aqui\n",
        "\n",
        "dia = int(input(\"Digite o dia atual: \"))\n",
        "mes = int(input(\"digite o mes atual: \"))\n",
        "ano = int(input(\"digite o ano atual: \"))\n",
        "\n",
        "diaAniv = int(input(\"Digite o dia do seu aniversario: \"))\n",
        "mesAniv = int(input(\"digite o mes do seu aniversario: \"))\n",
        "anoAniv = int(input(\"digite o ano do seu aniversario: \"))\n",
        "\n",
        "if mes > mesAniv:\n",
        "  idade = ano - anoAniv\n",
        "else:\n",
        "  if mes == mesAniv and dia > diaAniv:\n",
        "    idade = ano - anoAniv\n",
        "  else:\n",
        "    idade = ano - anoAniv - 1\n",
        "print(\"idade eh\", idade)\n"
      ],
      "execution_count": 3,
      "outputs": [
        {
          "output_type": "stream",
          "name": "stdout",
          "text": [
            "Digite o dia atual: 20\n",
            "digite o mes atual: 2\n",
            "digite o ano atual: 2024\n",
            "Digite o dia do seu aniversario: 9\n",
            "digite o mes do seu aniversario: 12\n",
            "digite o ano do seu aniversario: 1993\n",
            "idade eh 30\n"
          ]
        }
      ]
    },
    {
      "cell_type": "markdown",
      "metadata": {
        "id": "zctEO1LOyO7-"
      },
      "source": [
        "### Questão 3:\n",
        "\n",
        "Escreva um programa que verifique se um ponto está dentro de um círculo. Você deve receber dois inteiros (a,b) e um inteiro r que são a posição do centro da circunferência e o valor de seu raio respectivamente. Logo em seguida, você irá pedir o valor do ponto (x,y) que deve ser checado se está dentro ou fora da circunferência. Considere que se o ponto estiver exatamente em cima do bordo da circunferência ele é considerado dentro da circunferência.\n"
      ]
    },
    {
      "cell_type": "code",
      "metadata": {
        "id": "HUHxAR0tyRA0",
        "colab": {
          "base_uri": "https://localhost:8080/"
        },
        "outputId": "3d93e215-6957-489c-81fe-3a7cb1216804"
      },
      "source": [
        "# codigo vai aqui\n",
        "a = int(input(\"digite o valor de a: \"))\n",
        "b = int(input(\"digite o valor de b: \"))\n",
        "r = int(input(\"digite o valor de r: \"))\n",
        "\n",
        "x = int(input(\"digite o valor de x: \"))\n",
        "y = int(input(\"digite o valor de y: \"))\n",
        "if ((a-x)**2 + (y-b)**2)**0.5 > r:\n",
        "  print(\"fora da circunferencia\")\n",
        "else:\n",
        "  print(\"dentro da circunferencia\")\n"
      ],
      "execution_count": 4,
      "outputs": [
        {
          "output_type": "stream",
          "name": "stdout",
          "text": [
            "digite o valor de a: 4\n",
            "digite o valor de b: 8\n",
            "digite o valor de r: 12\n",
            "digite o valor de x: 9\n",
            "digite o valor de y: 5\n",
            "dentro da circunferencia\n"
          ]
        }
      ]
    },
    {
      "cell_type": "markdown",
      "metadata": {
        "id": "MUNn-Shmy3PP"
      },
      "source": [
        "### Questão 4:\n",
        "\n",
        "Tendo como dados de entrada a altura (float) e o sexo (M ou F) de uma pessoa, construa um algoritmo que calcule seu peso esperado médio, utilizando as seguintes fórmulas:\n",
        "\n",
        "● para homens: (72.7 * h) – 58;\n",
        "\n",
        "● para mulheres: (62.1 * h) – 44.7."
      ]
    },
    {
      "cell_type": "code",
      "metadata": {
        "id": "INW0ci35zXm3",
        "colab": {
          "base_uri": "https://localhost:8080/"
        },
        "outputId": "b23cc739-ba5e-4d6f-83f7-d9b7818b97d7"
      },
      "source": [
        "# codigo vai aqui\n",
        "\n",
        "altura = float(input(\"digite sua altura: \"))\n",
        "sexo = input(\"digite seu sexo M/F: \")\n",
        "if (sexo == \"M\" ):\n",
        "  pesoEsperadoMedio = (72.7*altura)-58\n",
        "else:\n",
        "  pesoEsperadoMedio = (62.1*altura)-44.7\n",
        "print(\"peso esperado medio para sua altura\", altura, \"eh\", round(pesoEsperadoMedio))"
      ],
      "execution_count": 7,
      "outputs": [
        {
          "output_type": "stream",
          "name": "stdout",
          "text": [
            "digite sua altura: 1.60\n",
            "digite seu sexo M/F: F\n",
            "peso esperado medio para sua altura 1.6 eh 55\n"
          ]
        }
      ]
    },
    {
      "cell_type": "markdown",
      "metadata": {
        "id": "B3pYfUXIzd0_"
      },
      "source": [
        "### Questão 5:\n",
        "\n",
        "O IMC – Indice de Massa Corporal é um critério da Organização Mundial de Saúde para dar umaindicação sobre a condição de peso de uma pessoa adulta. A fórmula é IMC = $\\frac{\\text{peso}}{ \\text{altura}^2}$. Elabore um algoritmo que leia o peso e a altura de um adulto e mostre sua condição de acordo com a tabela abaixo.\n",
        "\n",
        "**IMC em adultos: Condição**\n",
        "\n",
        "Abaixo de 18,5: Abaixo do peso\n",
        "\n",
        "Entre 18,5 e 25: Peso normal\n",
        "\n",
        "Entre 25 e 30: Acima do peso\n",
        "\n",
        "Acima de 30: obeso"
      ]
    },
    {
      "cell_type": "code",
      "metadata": {
        "id": "zIZytEw-0APT",
        "colab": {
          "base_uri": "https://localhost:8080/"
        },
        "outputId": "52b4641a-fe7f-4656-daea-f45517809a7a"
      },
      "source": [
        "## codigo vai aqui\n",
        "\n",
        "\n",
        "peso = float(input(\"digite seu peso: \"))\n",
        "altura = float(input(\"digite sua altura: \"))\n",
        "imc = peso/(altura**2)\n",
        "if (imc < 18.5):\n",
        "  print(\"abaixo do peso\")\n",
        "elif (imc<25 ):\n",
        "  print(\"peso normal\")\n",
        "elif (imc<30):\n",
        "  print(\"acima do peso\")\n",
        "else:\n",
        "  print(\"obeso\")\n"
      ],
      "execution_count": 9,
      "outputs": [
        {
          "output_type": "stream",
          "name": "stdout",
          "text": [
            "digite seu peso: 50\n",
            "digite sua altura: 1.60\n",
            "peso normal\n"
          ]
        }
      ]
    },
    {
      "cell_type": "markdown",
      "metadata": {
        "id": "jVYGRrlA0Bo_"
      },
      "source": [
        "### Questão 6:\n",
        "\n",
        "Escreva um algoritmo que leia as 3 notas obtidas por um aluno nas 3 verificações e a média dos exercícios que fazem parte da avaliação, e calcule a média de aproveitamento, usando a fórmula:\n",
        "MA := (nota1 + nota 2 * 2 + nota 3 * 3 + ME)/7\n",
        "\n",
        "A atribuição dos conceitos obedece a tabela abaixo. O algoritmo deve escrever suas notas, a média dos exercícios, a média de aproveitamento, o conceito correspondente e a mensagem 'Aprovado' se o conceito for A, B ou C, e 'Reprovado' se o conceito for D ou E.\n",
        "\n",
        "** Média de aproveitamento -> Conceito **\n",
        "\n",
        "$>=$ 90  -> A\n",
        "\n",
        "$>=$ 75 e $<$ 90 -> B\n",
        "\n",
        "$>=$ 60 e $<$ 75 -> C\n",
        "\n",
        "$>=$ 40 e $<$ 60 -> D\n",
        "\n",
        "$<$ 40 -> E"
      ]
    },
    {
      "cell_type": "code",
      "metadata": {
        "id": "rIWHad7r0uG5",
        "colab": {
          "base_uri": "https://localhost:8080/"
        },
        "outputId": "beff82c8-acf6-4f36-c192-3a4b2ff582c1"
      },
      "source": [
        "# codigo vai aqui\n",
        "\n",
        "#onde esta o erro do codigo\n",
        "nota1 = float(input(\"digite a nota 1: \"))\n",
        "nota2 = float(input(\"digite a nota 2: \"))\n",
        "nota3 = float(input(\"digite a nota 3: \"))\n",
        "mediaExercicios = float(input(\"digite a media dos exercicios: \"))\n",
        "mediaAproveitamento = (nota1 + nota2*2 + nota3*3 + mediaExercicios)/7\n",
        "if (mediaAproveitamento >= 9):\n",
        "  print(\"conceito A\")\n",
        "elif (mediaAproveitamento >=7.5):\n",
        "  print(\"conceito B\")\n",
        "elif mediaAproveitamento >=6 :\n",
        "  print(\"conceito C\")\n",
        "elif mediaAproveitamento >=4:\n",
        "  print(\"conceito D\")\n",
        "else:\n",
        "  print(\"conceito E\")"
      ],
      "execution_count": 10,
      "outputs": [
        {
          "output_type": "stream",
          "name": "stdout",
          "text": [
            "digite a nota 1: 9\n",
            "digite a nota 2: 8\n",
            "digite a nota 3: 7\n",
            "digite a media dos exercicios: 5\n",
            "conceito C\n"
          ]
        }
      ]
    },
    {
      "cell_type": "markdown",
      "metadata": {
        "id": "qfj38C95yTh9"
      },
      "source": [
        "### Questão 7:\n",
        "\n",
        "Escreva um programa que funciona como uma calculadora para operações binárias (com dois operandos):\n",
        "O usuário deve dar os valores de ponto flutuante X e Y dos operandos e o tipo da operação (que pode ser “+”, “-”, “*”, “/”) como entrada.\n",
        "\n",
        "O programa deve imprimir na tela o cálculo da operação:\n",
        "X OPERACAO Y.\n",
        "\n"
      ]
    },
    {
      "cell_type": "code",
      "metadata": {
        "id": "Eg0uPo7EySD7",
        "colab": {
          "base_uri": "https://localhost:8080/"
        },
        "outputId": "74e0be64-b24f-4e49-8416-f4186727b5e1"
      },
      "source": [
        "# codigo vai aqui\n",
        "\n",
        "#onde esta o erro do codigo abaixo\n",
        "operando1 = float(input(\"Digite o primeiro numero: \"))\n",
        "operando2 = float(input(\"Digite o segundo numero: \"))\n",
        "operador = input(\"Digite o operador (*/+-): \")\n",
        "if operador == \"+\":\n",
        "  print(operando1,operador, operando2, \"=\", operando1+operando2)\n",
        "elif operador == \"-\":\n",
        "  print(operando1,operador, operando2, \"=\", operando1-operando2)\n",
        "elif operador == \"*\":\n",
        "  print(operando1,operador, operando2, \"=\", operando1*operando2)\n",
        "elif operador == \"/\":\n",
        "  print(operando1,operador, operando2, \"=\", operando1/operando2)"
      ],
      "execution_count": 11,
      "outputs": [
        {
          "output_type": "stream",
          "name": "stdout",
          "text": [
            "Digite o primeiro numero: 12\n",
            "Digite o segundo numero: 34\n",
            "Digite o operador (*/+-): *\n",
            "12.0 * 34.0 = 408.0\n"
          ]
        }
      ]
    }
  ]
}