{
  "nbformat": 4,
  "nbformat_minor": 0,
  "metadata": {
    "colab": {
      "provenance": [],
      "include_colab_link": true
    },
    "kernelspec": {
      "name": "python3",
      "display_name": "Python 3"
    },
    "language_info": {
      "name": "python"
    }
  },
  "cells": [
    {
      "cell_type": "markdown",
      "metadata": {
        "id": "view-in-github",
        "colab_type": "text"
      },
      "source": [
        "<a href=\"https://colab.research.google.com/github/KarolineCostadaSilva/Pos_ciencia_dados_ufpe/blob/main/Intro_ciencias_dados/Exerc_python/Laborat%C3%B3rio_1_Especializa%C3%A7%C3%A3o_CIn_UFPE.ipynb\" target=\"_parent\"><img src=\"https://colab.research.google.com/assets/colab-badge.svg\" alt=\"Open In Colab\"/></a>"
      ]
    },
    {
      "cell_type": "markdown",
      "metadata": {
        "id": "JlH5Cvoa5eJj"
      },
      "source": [
        "#### Assuntos do Laboratório 1:\n",
        "- Tipos de variáveis\n",
        "- Operações aritméticas\n",
        "- Operações lógicas\n"
      ]
    },
    {
      "cell_type": "markdown",
      "metadata": {
        "id": "pTsmyiWA5UK3"
      },
      "source": [
        "### Questão 0:\n",
        "Escreva um programa que declara a variável **x** com o valor inicial 10."
      ]
    },
    {
      "cell_type": "code",
      "metadata": {
        "id": "PLyJ6kWZ5cic"
      },
      "source": [
        "# codigo vai aqui\n",
        "x = 10"
      ],
      "execution_count": 1,
      "outputs": []
    },
    {
      "cell_type": "markdown",
      "metadata": {
        "id": "EMvmwDWswVo1"
      },
      "source": [
        "###Questao 1:\n",
        "\n",
        "Crie um programa que possua 4 variáveis (anoNascimento, anoAtual, idade, mesesVividos). anoNascimento será inicializada com o ano do seu nascimento, anoAtual será inicializada com o ano atual e a idade será o cálculo da diferença entre as duas variáveis anoAtual e anoNascimento, e mesesVividos armazenará a quantidade de meses vividos."
      ]
    },
    {
      "cell_type": "code",
      "metadata": {
        "id": "PMvN35cJvwWf",
        "colab": {
          "base_uri": "https://localhost:8080/"
        },
        "outputId": "205b3a43-d337-47b9-a79d-1200f97e3fcf"
      },
      "source": [
        "#codigo vai aqui\n",
        "import datetime\n",
        "anoNascimento = 1993\n",
        "hoje = datetime.date.today()\n",
        "anoAtual = hoje.year\n",
        "idade = anoAtual - anoNascimento\n",
        "mesesVividos = idade * 12\n",
        "print(f'''Idade atual: {idade} anos.\n",
        "Meses vividos: {mesesVividos} meses.\n",
        "''')"
      ],
      "execution_count": 4,
      "outputs": [
        {
          "output_type": "stream",
          "name": "stdout",
          "text": [
            "Idade atual: 31 anos.\n",
            "Meses vividos: 372 meses.\n",
            "\n"
          ]
        }
      ]
    },
    {
      "cell_type": "markdown",
      "metadata": {
        "id": "eA61dQhWxPVU"
      },
      "source": [
        "### Questao 2:\n",
        "\n",
        "Faça um programa que considera que existem caminhões de vacina em Pernambuco que transportam  10283 vacinas em cada caminhão. Sabendo que há 2.493.219 que precisam ser vacinados, depois da viagem de quantos caminhões essa população estará vacinada?"
      ]
    },
    {
      "cell_type": "code",
      "metadata": {
        "id": "wDeAwoFhxb6D",
        "colab": {
          "base_uri": "https://localhost:8080/"
        },
        "outputId": "f0534851-a864-4511-cd56-b6863e1e0b63"
      },
      "source": [
        "# codigo vai aqui\n",
        "caminhao = 10283\n",
        "caminhoes = 2493219 / caminhao\n",
        "print(f'Precisamos de {round(caminhoes)} viajens de caminhão para vacinar 2.493.219.')"
      ],
      "execution_count": 5,
      "outputs": [
        {
          "output_type": "stream",
          "name": "stdout",
          "text": [
            "Precisamos de 242 viajens de caminhão para vacinar 2.493.219.\n"
          ]
        }
      ]
    },
    {
      "cell_type": "markdown",
      "metadata": {
        "id": "dcqGWjtyxdRq"
      },
      "source": [
        "### Questão 3:\n",
        "\n",
        "Peça ao usuário 3 valores Booleanos (b1, b2, b3) e imprima o resultado da expressão (b1 and b2) or b3\n"
      ]
    },
    {
      "cell_type": "code",
      "metadata": {
        "id": "g4RlHMWnxgc2",
        "colab": {
          "base_uri": "https://localhost:8080/"
        },
        "outputId": "405cdd13-aa20-4897-930f-16e642875779"
      },
      "source": [
        "#codigo vai aqui\n",
        "b1, b2, b3 = input('Escreva três valores booleanos separados por espaço: ').split(' ')\n",
        "print((b1 and b2) or b3)"
      ],
      "execution_count": 8,
      "outputs": [
        {
          "output_type": "stream",
          "name": "stdout",
          "text": [
            "Escreva três valores booleanos separados por espaço: False True False\n",
            "True\n"
          ]
        }
      ]
    },
    {
      "cell_type": "markdown",
      "metadata": {
        "id": "iUa6I3VaxdZT"
      },
      "source": [
        "### Questão 4:\n",
        "\n",
        "Escreva um programa que receba do usuário um número inteiro x de três dígitos (exemplo: 498) e imprima na tela um número contendo os dígitos invertidos de x (894). Use somente os operadores aritméticos vistos nessa aula.\n",
        "\n"
      ]
    },
    {
      "cell_type": "code",
      "metadata": {
        "id": "Df-myMkuxrAh",
        "colab": {
          "base_uri": "https://localhost:8080/"
        },
        "outputId": "35edbf86-2ebe-4b18-894c-c693846c34c6"
      },
      "source": [
        "# o codigo vai aqui\n",
        "x = input('Escreva um número inteiro de três dígitos:')\n",
        "inverso = int(x[::-1])\n",
        "print(f'Número inverso: {inverso}')"
      ],
      "execution_count": 11,
      "outputs": [
        {
          "output_type": "stream",
          "name": "stdout",
          "text": [
            "Escreva um número inteiro de três dígitos:123\n",
            "Número inverso: 321\n"
          ]
        }
      ]
    }
  ]
}